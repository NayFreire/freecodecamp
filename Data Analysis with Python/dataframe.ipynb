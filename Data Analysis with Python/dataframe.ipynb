{
 "cells": [
  {
   "cell_type": "markdown",
   "metadata": {},
   "source": [
    "### Using DataFrames with Pandas"
   ]
  },
  {
   "cell_type": "code",
   "execution_count": null,
   "metadata": {},
   "outputs": [],
   "source": [
    "import pandas as pd\n",
    "\n",
    "certificates_earned = pd.DataFrame({\n",
    "    'Certificates': [8, 2, 5, 6],\n",
    "    'Time (in months)': [16, 5, 9, 12]\n",
    "})\n",
    "\n",
    "certificates_earned.index = ['Tom', 'Kris', 'Ahmad', 'Beau']\n",
    "\n",
    "certificates_earned"
   ]
  },
  {
   "cell_type": "markdown",
   "metadata": {},
   "source": [
    "Getting a column of the df"
   ]
  },
  {
   "cell_type": "code",
   "execution_count": null,
   "metadata": {},
   "outputs": [],
   "source": [
    "certificates_earned['Certificates']"
   ]
  },
  {
   "cell_type": "markdown",
   "metadata": {},
   "source": [
    "Using .loc[]"
   ]
  },
  {
   "cell_type": "code",
   "execution_count": null,
   "metadata": {},
   "outputs": [],
   "source": [
    "print(certificates_earned.loc['Tom']) # printing just the \"Tom\" line (first one) with loc[]\n",
    "print(certificates_earned.loc[certificates_earned['Certificates'] > 5]) # printing lines based on a boolean condition with loc[]"
   ]
  },
  {
   "cell_type": "markdown",
   "metadata": {},
   "source": [
    "Using .iloc[]"
   ]
  },
  {
   "cell_type": "code",
   "execution_count": null,
   "metadata": {},
   "outputs": [],
   "source": [
    "\n",
    "print(certificates_earned.iloc[0]) # printing the first line with iloc[]\n",
    "\n",
    "print(certificates_earned.iloc[-1].name) # printing the last line's index's name with iloc[]\n",
    "print(certificates_earned.iloc[-1].dtype) # printing the last line's dtype with iloc[]\n",
    "\n",
    "print(certificates_earned.iloc[0:2]) # printing the first an interval of lines with iloc[] (first and second lines)"
   ]
  },
  {
   "cell_type": "code",
   "execution_count": null,
   "metadata": {},
   "outputs": [],
   "source": []
  }
 ],
 "metadata": {
  "kernelspec": {
   "display_name": "Python 3",
   "language": "python",
   "name": "python3"
  },
  "language_info": {
   "codemirror_mode": {
    "name": "ipython",
    "version": 3
   },
   "file_extension": ".py",
   "mimetype": "text/x-python",
   "name": "python",
   "nbconvert_exporter": "python",
   "pygments_lexer": "ipython3",
   "version": "3.11.9"
  }
 },
 "nbformat": 4,
 "nbformat_minor": 2
}
